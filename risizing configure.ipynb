{
 "cells": [
  {
   "cell_type": "code",
   "execution_count": 3,
   "id": "af7b51e0-860a-49c1-8d85-2dd4da42ddc0",
   "metadata": {},
   "outputs": [],
   "source": [
    "import tkinter\n",
    "from tkinter import *"
   ]
  },
  {
   "cell_type": "code",
   "execution_count": 26,
   "id": "2b4781b3-5c40-4eb0-82b0-1afe15bdc59e",
   "metadata": {},
   "outputs": [],
   "source": [
    "\n",
    "def on_resize():\n",
    "    l1.config(font=(\"bold\",200))\n",
    "    \n",
    "top=Tk()\n",
    "top.geometry(\"500x500\")\n",
    "top.title(\"gui\")\n",
    "l1=Label(top,text=\"enter name =\")\n",
    "l1.pack()\n",
    "b=Button(top,command=on_resize,text=\"click\")\n",
    "b.pack()\n",
    "\n",
    "top.resizable(False,True)\n",
    "\n",
    "top.mainloop()"
   ]
  },
  {
   "cell_type": "code",
   "execution_count": null,
   "id": "40ba7a93-a3cf-4a5b-90fc-a9d1a4ff4b07",
   "metadata": {},
   "outputs": [],
   "source": []
  }
 ],
 "metadata": {
  "kernelspec": {
   "display_name": "Python 3 (ipykernel)",
   "language": "python",
   "name": "python3"
  },
  "language_info": {
   "codemirror_mode": {
    "name": "ipython",
    "version": 3
   },
   "file_extension": ".py",
   "mimetype": "text/x-python",
   "name": "python",
   "nbconvert_exporter": "python",
   "pygments_lexer": "ipython3",
   "version": "3.12.4"
  }
 },
 "nbformat": 4,
 "nbformat_minor": 5
}
