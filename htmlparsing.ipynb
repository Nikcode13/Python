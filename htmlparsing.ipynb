{
 "cells": [
  {
   "cell_type": "code",
   "execution_count": 1,
   "id": "ae51ab92-7bf6-40b2-9525-9b587a22bad7",
   "metadata": {},
   "outputs": [],
   "source": [
    "from bs4 import BeautifulSoup"
   ]
  },
  {
   "cell_type": "code",
   "execution_count": 5,
   "id": "e8762431-42dc-4c6f-a96f-34ce654149a3",
   "metadata": {},
   "outputs": [],
   "source": [
    "with open(\"htmlfile.html\",\"r\") as file:\n",
    "    content=file.read()"
   ]
  },
  {
   "cell_type": "code",
   "execution_count": 7,
   "id": "780ab585-7595-4560-a801-cf3e4cb4525e",
   "metadata": {},
   "outputs": [],
   "source": [
    "soup=BeautifulSoup(content,'html.parser')"
   ]
  },
  {
   "cell_type": "code",
   "execution_count": 19,
   "id": "731a4473-b99b-4829-953a-31d5788b9390",
   "metadata": {},
   "outputs": [
    {
     "name": "stdout",
     "output_type": "stream",
     "text": [
      "titel =  \n",
      "            Html Pasing program demo\n",
      "        \n",
      "titel =  \n",
      "            Html Pasing program demo\n",
      "        \n"
     ]
    }
   ],
   "source": [
    "print(\"titel = \",soup.title.string)\n",
    "print(\"titel = \",soup.title.text)"
   ]
  },
  {
   "cell_type": "code",
   "execution_count": 17,
   "id": "622b9fe3-edbe-4e42-a540-2e0a88b6efed",
   "metadata": {},
   "outputs": [
    {
     "name": "stdout",
     "output_type": "stream",
     "text": [
      "heading = Html pasing heading\n",
      "heading = Html pasing heading\n"
     ]
    }
   ],
   "source": [
    "print(\"heading =\",soup.h1.text)\n",
    "print(\"heading =\",soup.h1.string)"
   ]
  },
  {
   "cell_type": "code",
   "execution_count": 29,
   "id": "7ad18105-9255-424e-b33a-f49f065d35d6",
   "metadata": {},
   "outputs": [
    {
     "name": "stdout",
     "output_type": "stream",
     "text": [
      "pragraph in files = \n",
      "1 pargraph 1\n",
      "2 pargraph 2\n",
      "3 pargraph 3\n"
     ]
    }
   ],
   "source": [
    "print(\"pragraph in files = \")\n",
    "i=1\n",
    "for p in soup.find_all('p'):\n",
    "    print(i, p.text)\n",
    "    i=i+1"
   ]
  },
  {
   "cell_type": "code",
   "execution_count": null,
   "id": "53cdb480-7d6c-4eca-a1c5-2b1d0c78d81e",
   "metadata": {},
   "outputs": [],
   "source": []
  }
 ],
 "metadata": {
  "kernelspec": {
   "display_name": "Python 3 (ipykernel)",
   "language": "python",
   "name": "python3"
  },
  "language_info": {
   "codemirror_mode": {
    "name": "ipython",
    "version": 3
   },
   "file_extension": ".py",
   "mimetype": "text/x-python",
   "name": "python",
   "nbconvert_exporter": "python",
   "pygments_lexer": "ipython3",
   "version": "3.12.4"
  }
 },
 "nbformat": 4,
 "nbformat_minor": 5
}
