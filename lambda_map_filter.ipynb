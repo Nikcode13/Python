{
 "cells": [
  {
   "cell_type": "markdown",
   "id": "5b9be618",
   "metadata": {},
   "source": [
    "# lambda function"
   ]
  },
  {
   "cell_type": "code",
   "execution_count": 1,
   "id": "d340ce07",
   "metadata": {},
   "outputs": [
    {
     "name": "stdout",
     "output_type": "stream",
     "text": [
      "16\n"
     ]
    }
   ],
   "source": [
    "#square using map\n",
    "\n",
    "s=lambda x:x*x\n",
    "\n",
    "print(s(4))"
   ]
  },
  {
   "cell_type": "code",
   "execution_count": 2,
   "id": "78714982",
   "metadata": {},
   "outputs": [
    {
     "name": "stdout",
     "output_type": "stream",
     "text": [
      "adition=  30\n"
     ]
    }
   ],
   "source": [
    "add=lambda a,b:a+b\n",
    "print(\"adition= \",add(10,20))"
   ]
  },
  {
   "cell_type": "code",
   "execution_count": 3,
   "id": "3dcee027",
   "metadata": {},
   "outputs": [
    {
     "name": "stdout",
     "output_type": "stream",
     "text": [
      "cube of number is =  8\n"
     ]
    }
   ],
   "source": [
    "cube=lambda a:a*a*a\n",
    "print(\"cube of number is = \",cube(2))"
   ]
  },
  {
   "cell_type": "code",
   "execution_count": 4,
   "id": "7d3ab5d8",
   "metadata": {},
   "outputs": [
    {
     "name": "stdout",
     "output_type": "stream",
     "text": [
      "greater number is =  38\n",
      "greater number is =  200\n"
     ]
    }
   ],
   "source": [
    "maxNum=lambda x,y:x if x>y else y\n",
    "print(\"greater number is = \",maxNum(20,38))\n",
    "print(\"greater number is = \",maxNum(200,38))"
   ]
  },
  {
   "cell_type": "markdown",
   "id": "efa6e8d2",
   "metadata": {},
   "source": [
    "# map function"
   ]
  },
  {
   "cell_type": "code",
   "execution_count": 5,
   "id": "c1505ec3",
   "metadata": {},
   "outputs": [
    {
     "name": "stdout",
     "output_type": "stream",
     "text": [
      "<map object at 0x0000012D8F2FB280>\n"
     ]
    }
   ],
   "source": [
    "l=[1,2,3,4,5,6]\n",
    "\n",
    "r=map(lambda a:a*a,l)\n",
    "print(r)"
   ]
  },
  {
   "cell_type": "code",
   "execution_count": 6,
   "id": "4f634fb9",
   "metadata": {},
   "outputs": [
    {
     "name": "stdout",
     "output_type": "stream",
     "text": [
      "[1, 4, 9, 16, 25, 36]\n"
     ]
    }
   ],
   "source": [
    "r=list(map(lambda a:a*a,l))\n",
    "print(r)"
   ]
  },
  {
   "cell_type": "code",
   "execution_count": 7,
   "id": "e1af3bc6",
   "metadata": {},
   "outputs": [
    {
     "name": "stdout",
     "output_type": "stream",
     "text": [
      "(1, 4, 9, 16, 25, 36)\n"
     ]
    }
   ],
   "source": [
    "r=tuple(map(lambda a:a*a,l))\n",
    "print(r)"
   ]
  },
  {
   "cell_type": "code",
   "execution_count": 8,
   "id": "d31af7ff",
   "metadata": {},
   "outputs": [
    {
     "name": "stdout",
     "output_type": "stream",
     "text": [
      "[1, 4, 9, 16, 25, 36]\n"
     ]
    }
   ],
   "source": [
    "r=map(lambda a:a*a,l)\n",
    "print(list(r))"
   ]
  },
  {
   "cell_type": "code",
   "execution_count": 9,
   "id": "d4293f59",
   "metadata": {},
   "outputs": [
    {
     "name": "stdout",
     "output_type": "stream",
     "text": [
      "[1, 8, 27, 64, 125]\n"
     ]
    }
   ],
   "source": [
    "#cube using map\n",
    "##1)\n",
    "t=(1,2,3,4,5)\n",
    "\n",
    "def cube(a):\n",
    "    return a*a*a\n",
    "\n",
    "m=list(map(cube,t))\n",
    "print(m)\n",
    "# print(list(map(cube,t)))        #same anwer as [1, 8, 27, 64, 125]"
   ]
  },
  {
   "cell_type": "code",
   "execution_count": 10,
   "id": "a614a7d1",
   "metadata": {},
   "outputs": [
    {
     "name": "stdout",
     "output_type": "stream",
     "text": [
      "[1, 8, 27, 64, 125]\n"
     ]
    }
   ],
   "source": [
    "##2)\n",
    "re=list(map(lambda a:a*a*a,t))\n",
    "print(re)"
   ]
  },
  {
   "cell_type": "markdown",
   "id": "c612c031",
   "metadata": {},
   "source": [
    "# filter function"
   ]
  },
  {
   "cell_type": "code",
   "execution_count": 11,
   "id": "af071c1c",
   "metadata": {},
   "outputs": [],
   "source": [
    "#program to find even number from list or tuple"
   ]
  },
  {
   "cell_type": "code",
   "execution_count": 12,
   "id": "ace20caf",
   "metadata": {},
   "outputs": [
    {
     "name": "stdout",
     "output_type": "stream",
     "text": [
      "<filter object at 0x0000012D8F33C0A0>\n"
     ]
    }
   ],
   "source": [
    "l=[1,2,3,4,5,6,7,8,9,10]\n",
    "\n",
    "re=filter(lambda a:a%2==0,l)\n",
    "print(re)"
   ]
  },
  {
   "cell_type": "code",
   "execution_count": 13,
   "id": "595cbc7d",
   "metadata": {},
   "outputs": [
    {
     "name": "stdout",
     "output_type": "stream",
     "text": [
      "[2, 4, 6, 8, 10]\n"
     ]
    }
   ],
   "source": [
    "l=[1,2,3,4,5,6,7,8,9,10]\n",
    "\n",
    "re=list(filter(lambda a:a%2==0,l))\n",
    "print(re)"
   ]
  },
  {
   "cell_type": "code",
   "execution_count": 14,
   "id": "993fe0a4",
   "metadata": {},
   "outputs": [],
   "source": [
    "#program to find adults"
   ]
  },
  {
   "cell_type": "code",
   "execution_count": 15,
   "id": "22d2cb1b",
   "metadata": {},
   "outputs": [
    {
     "name": "stdout",
     "output_type": "stream",
     "text": [
      "adults peoples= \n",
      "29 18 19 33 "
     ]
    }
   ],
   "source": [
    "# 1)\n",
    "l =[9,29,13,18,12,19,33,11]\n",
    "\n",
    "def cheakAdults(a):\n",
    "    if a<18:\n",
    "        return False\n",
    "    else:\n",
    "        return True\n",
    "    \n",
    "adults=filter(cheakAdults,l)\n",
    "\n",
    "print(\"adults peoples= \")\n",
    "for i in adults:\n",
    "    print(i,end=' ')"
   ]
  },
  {
   "cell_type": "code",
   "execution_count": 16,
   "id": "ebaede6e",
   "metadata": {},
   "outputs": [
    {
     "name": "stdout",
     "output_type": "stream",
     "text": [
      "[29, 18, 19, 33]\n"
     ]
    }
   ],
   "source": [
    "adults=list(filter(cheakAdults,l))\n",
    "print(adults)"
   ]
  },
  {
   "cell_type": "code",
   "execution_count": 17,
   "id": "e0ea8393",
   "metadata": {},
   "outputs": [
    {
     "name": "stdout",
     "output_type": "stream",
     "text": [
      "not adultes peoples are=  [9, 13, 12, 11]\n"
     ]
    }
   ],
   "source": [
    "# 2)\n",
    "\n",
    "ad=list(filter(lambda a:a<18,l))\n",
    "print(\"not adultes peoples are= \",ad)"
   ]
  },
  {
   "cell_type": "code",
   "execution_count": 18,
   "id": "79311ad0",
   "metadata": {},
   "outputs": [
    {
     "name": "stdout",
     "output_type": "stream",
     "text": [
      "adultes peoples are=  [29, 18, 19, 33]\n"
     ]
    }
   ],
   "source": [
    "ad=list(filter(lambda a:a>=18,l))\n",
    "print(\"adultes peoples are= \",ad)"
   ]
  },
  {
   "cell_type": "code",
   "execution_count": 21,
   "id": "a4ad4869",
   "metadata": {},
   "outputs": [
    {
     "name": "stdout",
     "output_type": "stream",
     "text": [
      "['e', 'a', 'e', 'u']\n"
     ]
    }
   ],
   "source": [
    "#program to filters vowels\n",
    "\n",
    "def fun(variable):\n",
    "    vowels=['a','e','i','o','u']\n",
    "    if variable in vowels:\n",
    "        return True\n",
    "    else:\n",
    "        return False\n",
    "    \n",
    "l=['e','f','w','a','e','u']\n",
    "result=filter(fun,l)\n",
    "print(list(result))"
   ]
  },
  {
   "cell_type": "code",
   "execution_count": 24,
   "id": "1f582272",
   "metadata": {},
   "outputs": [
    {
     "name": "stdout",
     "output_type": "stream",
     "text": [
      "['e', 'a', 'e', 'u']\n"
     ]
    }
   ],
   "source": [
    "result=list(filter(fun,l))\n",
    "print(result)"
   ]
  },
  {
   "cell_type": "code",
   "execution_count": null,
   "id": "fdbc258e",
   "metadata": {},
   "outputs": [],
   "source": []
  }
 ],
 "metadata": {
  "kernelspec": {
   "display_name": "Python 3",
   "language": "python",
   "name": "python3"
  },
  "language_info": {
   "codemirror_mode": {
    "name": "ipython",
    "version": 3
   },
   "file_extension": ".py",
   "mimetype": "text/x-python",
   "name": "python",
   "nbconvert_exporter": "python",
   "pygments_lexer": "ipython3",
   "version": "3.8.8"
  }
 },
 "nbformat": 4,
 "nbformat_minor": 5
}
