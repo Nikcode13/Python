{
 "cells": [
  {
   "cell_type": "markdown",
   "id": "878a3747",
   "metadata": {},
   "source": [
    "# inner function"
   ]
  },
  {
   "cell_type": "code",
   "execution_count": 1,
   "id": "54ced546",
   "metadata": {},
   "outputs": [
    {
     "name": "stdout",
     "output_type": "stream",
     "text": [
      "30\n"
     ]
    }
   ],
   "source": [
    "\n",
    "\n",
    "def outer(x,y):\n",
    "    def inner(a,b):\n",
    "        return a+b\n",
    "    sum=inner(x,y)\n",
    "    return sum\n",
    "print(outer(10,20))"
   ]
  },
  {
   "cell_type": "code",
   "execution_count": 6,
   "id": "9aad86ef",
   "metadata": {},
   "outputs": [
    {
     "name": "stdout",
     "output_type": "stream",
     "text": [
      "[85, 90, 78, 92, 88]\n",
      "student grade system : \n",
      "Grades=[85, 90, 78, 92, 88]\n",
      "average grade: 86.6\n"
     ]
    }
   ],
   "source": [
    " def student_grade_system():\n",
    "        def calculate_average_grade(grade):\n",
    "            print(grade)\n",
    "            return sum(grade)/len(grade)\n",
    "        \n",
    "        grades=[85,90,78,92,88]\n",
    "        average_grade=calculate_average_grade(grades)\n",
    "        \n",
    "        print(\"student grade system : \")\n",
    "        print(f\"Grades={grades}\")\n",
    "        print(f\"average grade: {average_grade}\")\n",
    "student_grade_system()"
   ]
  },
  {
   "cell_type": "code",
   "execution_count": 14,
   "id": "e6208ca2",
   "metadata": {},
   "outputs": [
    {
     "name": "stdout",
     "output_type": "stream",
     "text": [
      "average grade = B\n",
      "student grade system : \n",
      "Grades=[85, 90, 78, 92, 88]\n",
      "average grade: 86.6\n"
     ]
    }
   ],
   "source": [
    "def student_grade_system():\n",
    "        def calculate_average_grade(grade):\n",
    "            #print(grade)\n",
    "            return sum(grade)/len(grade)\n",
    "        \n",
    "        \n",
    "        grades=[85,90,78,92,88]\n",
    "        average_grade=calculate_average_grade(grades)\n",
    "        \n",
    "        \n",
    "        if average_grade>=90:\n",
    "            print('average grade = A')\n",
    "        elif average_grade>=80:\n",
    "            print('average grade = B')\n",
    "        elif average_grade>=70: \n",
    "            print('average grade = C')\n",
    "        elif average_grade>=60:\n",
    "            print('average grade = D')\n",
    "        else:\n",
    "            print('average grade = F')\n",
    "            \n",
    "        print(\"student grade system : \")\n",
    "        print(f\"Grades={grades}\")\n",
    "        print(f\"average grade: {average_grade}\")\n",
    "        \n",
    "student_grade_system()"
   ]
  },
  {
   "cell_type": "markdown",
   "id": "e5dbcd16",
   "metadata": {},
   "source": [
    "# Average function"
   ]
  },
  {
   "cell_type": "code",
   "execution_count": 15,
   "id": "0fdb63d1",
   "metadata": {},
   "outputs": [
    {
     "name": "stdout",
     "output_type": "stream",
     "text": [
      "average of list elements =  15.0\n"
     ]
    }
   ],
   "source": [
    "\n",
    "def ave(num):\n",
    "    return sum(num)/len(num)\n",
    "\n",
    "l=[5,10,15,20,25]\n",
    "print(\"average of list elements = \",ave(l))"
   ]
  },
  {
   "cell_type": "code",
   "execution_count": 19,
   "id": "7a148ec2",
   "metadata": {},
   "outputs": [
    {
     "name": "stdout",
     "output_type": "stream",
     "text": [
      "average of list elements =  5.5\n"
     ]
    }
   ],
   "source": [
    "def ave(num):\n",
    "    if len(num)==0:\n",
    "        return None\n",
    "    else:\n",
    "        return sum(num)/len(num)\n",
    "\n",
    "l=[3,5,6,8]\n",
    "print(\"average of list elements = \",ave(l))"
   ]
  },
  {
   "cell_type": "code",
   "execution_count": 20,
   "id": "cbf62ab5",
   "metadata": {},
   "outputs": [
    {
     "name": "stdout",
     "output_type": "stream",
     "text": [
      "average of list elements =  None\n"
     ]
    }
   ],
   "source": [
    "def ave(num):\n",
    "    if len(num)==0:\n",
    "        return None\n",
    "    else:\n",
    "        return sum(num)/len(num)\n",
    "\n",
    "l=[]\n",
    "print(\"average of list elements = \",ave(l))"
   ]
  },
  {
   "cell_type": "code",
   "execution_count": null,
   "id": "118e95a7",
   "metadata": {},
   "outputs": [],
   "source": []
  }
 ],
 "metadata": {
  "kernelspec": {
   "display_name": "Python 3",
   "language": "python",
   "name": "python3"
  },
  "language_info": {
   "codemirror_mode": {
    "name": "ipython",
    "version": 3
   },
   "file_extension": ".py",
   "mimetype": "text/x-python",
   "name": "python",
   "nbconvert_exporter": "python",
   "pygments_lexer": "ipython3",
   "version": "3.8.8"
  }
 },
 "nbformat": 4,
 "nbformat_minor": 5
}
