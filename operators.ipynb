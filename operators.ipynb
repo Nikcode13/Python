{
 "cells": [
  {
   "cell_type": "code",
   "execution_count": 1,
   "id": "cb965ec9",
   "metadata": {},
   "outputs": [
    {
     "name": "stdout",
     "output_type": "stream",
     "text": [
      "enter frist number =10\n",
      "enter second number =2\n",
      "addition =  12\n",
      "substraction =  8\n",
      "multiplication =  20\n",
      "addition =  5.0\n",
      "modulas =  0\n",
      "power =  100\n"
     ]
    }
   ],
   "source": [
    "#arithmatics operators\n",
    "\n",
    "a=int(input(\"enter frist number =\"))\n",
    "b=int(input(\"enter second number =\"))\n",
    "\n",
    "print(\"addition = \",a+b)\n",
    "print(\"substraction = \",a-b)\n",
    "print(\"multiplication = \",a*b)\n",
    "print(\"addition = \",a/b)\n",
    "print(\"modulas = \",a%b)\n",
    "print(\"power = \",a**b)"
   ]
  },
  {
   "cell_type": "code",
   "execution_count": 12,
   "id": "5f38fba6",
   "metadata": {},
   "outputs": [
    {
     "name": "stdout",
     "output_type": "stream",
     "text": [
      "enter frist number =10\n",
      "enter second number =5\n",
      "x is greater than y \n",
      "x is less than y =  False\n",
      "x is greater than equal to y =  True\n",
      "x is less than equal to y =  False\n",
      "x is not equal to y =  True\n",
      "x is equal to y =  False\n"
     ]
    }
   ],
   "source": [
    "#Relational operators(comparison operator)\n",
    "\n",
    "x=int(input(\"enter frist number =\"))\n",
    "y=int(input(\"enter second number =\"))\n",
    "\n",
    "print(\"x is greater than y = \",x>y)\n",
    "print(\"x is less than y = \",x<y)\n",
    "print(\"x is greater than equal to y = \",x>=y)\n",
    "print(\"x is less than equal to y = \",x<=y)\n",
    "print(\"x is not equal to y = \",x!=y)\n",
    "print(\"x is equal to y = \",x==y)"
   ]
  },
  {
   "cell_type": "code",
   "execution_count": 10,
   "id": "d03a9485",
   "metadata": {},
   "outputs": [
    {
     "name": "stdout",
     "output_type": "stream",
     "text": [
      "False\n",
      "True\n",
      "True\n"
     ]
    }
   ],
   "source": [
    "#Identity operator(is ,is not)\n",
    "\n",
    "num1=50\n",
    "num2=40\n",
    "num3=50\n",
    "\n",
    "print(num1 is num2)\n",
    "print(num1 is num3)\n",
    "print(num1 is not num2)"
   ]
  },
  {
   "cell_type": "code",
   "execution_count": 13,
   "id": "4cfb9f37",
   "metadata": {},
   "outputs": [
    {
     "data": {
      "text/plain": [
       "True"
      ]
     },
     "execution_count": 13,
     "metadata": {},
     "output_type": "execute_result"
    }
   ],
   "source": [
    "#membership operator\n",
    "\n",
    "str=\"I like mango\"\n",
    "x=\"mango\"\n",
    "\n",
    "x in str"
   ]
  },
  {
   "cell_type": "code",
   "execution_count": 14,
   "id": "f0ad9932",
   "metadata": {},
   "outputs": [
    {
     "data": {
      "text/plain": [
       "False"
      ]
     },
     "execution_count": 14,
     "metadata": {},
     "output_type": "execute_result"
    }
   ],
   "source": [
    "x=\"Mango\"\n",
    "\n",
    "x in str"
   ]
  },
  {
   "cell_type": "code",
   "execution_count": 15,
   "id": "599c8c01",
   "metadata": {},
   "outputs": [
    {
     "data": {
      "text/plain": [
       "True"
      ]
     },
     "execution_count": 15,
     "metadata": {},
     "output_type": "execute_result"
    }
   ],
   "source": [
    "x not in str"
   ]
  },
  {
   "cell_type": "code",
   "execution_count": null,
   "id": "64df9930",
   "metadata": {},
   "outputs": [],
   "source": []
  }
 ],
 "metadata": {
  "kernelspec": {
   "display_name": "Python 3",
   "language": "python",
   "name": "python3"
  },
  "language_info": {
   "codemirror_mode": {
    "name": "ipython",
    "version": 3
   },
   "file_extension": ".py",
   "mimetype": "text/x-python",
   "name": "python",
   "nbconvert_exporter": "python",
   "pygments_lexer": "ipython3",
   "version": "3.8.8"
  }
 },
 "nbformat": 4,
 "nbformat_minor": 5
}
