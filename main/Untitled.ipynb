{
 "cells": [
  {
   "cell_type": "code",
   "execution_count": 1,
   "id": "0870bb0a",
   "metadata": {},
   "outputs": [],
   "source": [
    "from mypakage import module1\n",
    "from mypakage import module2"
   ]
  },
  {
   "cell_type": "code",
   "execution_count": 2,
   "id": "beaf9a81",
   "metadata": {},
   "outputs": [
    {
     "name": "stdout",
     "output_type": "stream",
     "text": [
      "add = 14\n"
     ]
    }
   ],
   "source": [
    "module1.add(10,4)"
   ]
  },
  {
   "cell_type": "code",
   "execution_count": 3,
   "id": "e37d9dd7",
   "metadata": {},
   "outputs": [
    {
     "name": "stdout",
     "output_type": "stream",
     "text": [
      "I am module 2\n"
     ]
    }
   ],
   "source": [
    "module2.show()"
   ]
  },
  {
   "cell_type": "code",
   "execution_count": null,
   "id": "5df6da4c",
   "metadata": {},
   "outputs": [],
   "source": []
  }
 ],
 "metadata": {
  "kernelspec": {
   "display_name": "Python 3 (ipykernel)",
   "language": "python",
   "name": "python3"
  },
  "language_info": {
   "codemirror_mode": {
    "name": "ipython",
    "version": 3
   },
   "file_extension": ".py",
   "mimetype": "text/x-python",
   "name": "python",
   "nbconvert_exporter": "python",
   "pygments_lexer": "ipython3",
   "version": "3.11.5"
  }
 },
 "nbformat": 4,
 "nbformat_minor": 5
}
