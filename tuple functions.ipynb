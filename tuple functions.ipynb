{
 "cells": [
  {
   "cell_type": "code",
   "execution_count": 1,
   "id": "085969e3-3568-476b-b5d4-69946e83cbf7",
   "metadata": {},
   "outputs": [],
   "source": [
    "t=(1,2,3,'nik',4.5)"
   ]
  },
  {
   "cell_type": "code",
   "execution_count": 3,
   "id": "db628146-19e2-4614-b8f4-0c5d698c7997",
   "metadata": {},
   "outputs": [
    {
     "data": {
      "text/plain": [
       "5"
      ]
     },
     "execution_count": 3,
     "metadata": {},
     "output_type": "execute_result"
    }
   ],
   "source": [
    "len(t)"
   ]
  },
  {
   "cell_type": "code",
   "execution_count": 5,
   "id": "76456585-810c-4f87-a1be-6a5e44e31ec7",
   "metadata": {},
   "outputs": [
    {
     "data": {
      "text/plain": [
       "tuple"
      ]
     },
     "execution_count": 5,
     "metadata": {},
     "output_type": "execute_result"
    }
   ],
   "source": [
    "type(t)"
   ]
  },
  {
   "cell_type": "code",
   "execution_count": 21,
   "id": "a31b0ff2-2f8e-459b-8f51-77243f66c343",
   "metadata": {},
   "outputs": [],
   "source": [
    "t1=(1,2,3,2,4)"
   ]
  },
  {
   "cell_type": "code",
   "execution_count": 23,
   "id": "4d2b9cc8-8e5b-4b83-8b64-da2b6f8889f5",
   "metadata": {},
   "outputs": [
    {
     "data": {
      "text/plain": [
       "4"
      ]
     },
     "execution_count": 23,
     "metadata": {},
     "output_type": "execute_result"
    }
   ],
   "source": [
    "max(t1)"
   ]
  },
  {
   "cell_type": "code",
   "execution_count": 25,
   "id": "c6114be2-eec5-4377-8756-6121b858ff32",
   "metadata": {},
   "outputs": [
    {
     "data": {
      "text/plain": [
       "1"
      ]
     },
     "execution_count": 25,
     "metadata": {},
     "output_type": "execute_result"
    }
   ],
   "source": [
    "min(t1)"
   ]
  },
  {
   "cell_type": "code",
   "execution_count": 27,
   "id": "8cd4882d-4303-4964-95aa-714587b7b4b6",
   "metadata": {},
   "outputs": [
    {
     "data": {
      "text/plain": [
       "12"
      ]
     },
     "execution_count": 27,
     "metadata": {},
     "output_type": "execute_result"
    }
   ],
   "source": [
    "sum(t1)"
   ]
  },
  {
   "cell_type": "code",
   "execution_count": 31,
   "id": "e5f5d034-5a67-4675-86ef-1423d2c54b04",
   "metadata": {},
   "outputs": [
    {
     "data": {
      "text/plain": [
       "(1, 2, 3, 2, 4)"
      ]
     },
     "execution_count": 31,
     "metadata": {},
     "output_type": "execute_result"
    }
   ],
   "source": [
    "t1"
   ]
  },
  {
   "cell_type": "code",
   "execution_count": 33,
   "id": "adaf63de-8f87-47e5-af4d-13a915dae914",
   "metadata": {},
   "outputs": [
    {
     "data": {
      "text/plain": [
       "2"
      ]
     },
     "execution_count": 33,
     "metadata": {},
     "output_type": "execute_result"
    }
   ],
   "source": [
    "t1.count(2)"
   ]
  },
  {
   "cell_type": "code",
   "execution_count": 35,
   "id": "42204821-e192-4d1b-a443-292b9b6d8aa8",
   "metadata": {},
   "outputs": [
    {
     "data": {
      "text/plain": [
       "4"
      ]
     },
     "execution_count": 35,
     "metadata": {},
     "output_type": "execute_result"
    }
   ],
   "source": [
    "t1.index(4)"
   ]
  },
  {
   "cell_type": "code",
   "execution_count": 37,
   "id": "76602e3e-8144-4ee3-926c-9037696a721c",
   "metadata": {},
   "outputs": [
    {
     "data": {
      "text/plain": [
       "True"
      ]
     },
     "execution_count": 37,
     "metadata": {},
     "output_type": "execute_result"
    }
   ],
   "source": [
    "all(t1)"
   ]
  },
  {
   "cell_type": "code",
   "execution_count": 39,
   "id": "31dd108d-17b2-49ba-816c-95ccbe99fee9",
   "metadata": {},
   "outputs": [],
   "source": [
    "t2=(0,False)"
   ]
  },
  {
   "cell_type": "code",
   "execution_count": 41,
   "id": "1bf4b973-046d-47b3-8d55-5681bd4914f2",
   "metadata": {},
   "outputs": [
    {
     "data": {
      "text/plain": [
       "False"
      ]
     },
     "execution_count": 41,
     "metadata": {},
     "output_type": "execute_result"
    }
   ],
   "source": [
    "any(t2)"
   ]
  },
  {
   "cell_type": "code",
   "execution_count": 43,
   "id": "87179cc0-d366-4a37-a8d2-18e4ae617a7c",
   "metadata": {},
   "outputs": [],
   "source": [
    "t2=(0,False,1)"
   ]
  },
  {
   "cell_type": "code",
   "execution_count": 45,
   "id": "76c49d1d-c305-43c7-9150-6e1833ebad97",
   "metadata": {},
   "outputs": [
    {
     "data": {
      "text/plain": [
       "True"
      ]
     },
     "execution_count": 45,
     "metadata": {},
     "output_type": "execute_result"
    }
   ],
   "source": [
    "any(t2)\n"
   ]
  },
  {
   "cell_type": "code",
   "execution_count": 47,
   "id": "810aac43-ae09-4caf-8160-f340be6b5a96",
   "metadata": {},
   "outputs": [
    {
     "data": {
      "text/plain": [
       "(1, 2, 3, 2, 4)"
      ]
     },
     "execution_count": 47,
     "metadata": {},
     "output_type": "execute_result"
    }
   ],
   "source": [
    "t1"
   ]
  },
  {
   "cell_type": "code",
   "execution_count": 51,
   "id": "96a30c25-d1d2-4f9c-8ff3-3cc11dc7a629",
   "metadata": {},
   "outputs": [
    {
     "data": {
      "text/plain": [
       "[1, 2, 2, 3, 4]"
      ]
     },
     "execution_count": 51,
     "metadata": {},
     "output_type": "execute_result"
    }
   ],
   "source": [
    "sorted(t1)"
   ]
  },
  {
   "cell_type": "code",
   "execution_count": 57,
   "id": "73c6cf6a-6320-4b67-a389-db565a0cee79",
   "metadata": {},
   "outputs": [
    {
     "data": {
      "text/plain": [
       "(4, 2, 3, 2, 1)"
      ]
     },
     "execution_count": 57,
     "metadata": {},
     "output_type": "execute_result"
    }
   ],
   "source": [
    "tuple(reversed(t1))"
   ]
  },
  {
   "cell_type": "code",
   "execution_count": 59,
   "id": "f69dd3b1-a166-4af3-a850-0da60a8f2530",
   "metadata": {},
   "outputs": [],
   "source": [
    "l=[4,3,7,4]"
   ]
  },
  {
   "cell_type": "code",
   "execution_count": 61,
   "id": "5173906e-3742-458f-8f21-a63efbc1921c",
   "metadata": {},
   "outputs": [
    {
     "data": {
      "text/plain": [
       "<list_reverseiterator at 0x1831f3dca90>"
      ]
     },
     "execution_count": 61,
     "metadata": {},
     "output_type": "execute_result"
    }
   ],
   "source": [
    "reversed(l)"
   ]
  },
  {
   "cell_type": "code",
   "execution_count": null,
   "id": "0c2baf26-6bac-42e8-9275-8a4526725d53",
   "metadata": {},
   "outputs": [],
   "source": []
  }
 ],
 "metadata": {
  "kernelspec": {
   "display_name": "Python 3 (ipykernel)",
   "language": "python",
   "name": "python3"
  },
  "language_info": {
   "codemirror_mode": {
    "name": "ipython",
    "version": 3
   },
   "file_extension": ".py",
   "mimetype": "text/x-python",
   "name": "python",
   "nbconvert_exporter": "python",
   "pygments_lexer": "ipython3",
   "version": "3.12.4"
  }
 },
 "nbformat": 4,
 "nbformat_minor": 5
}
