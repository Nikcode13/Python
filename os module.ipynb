{
 "cells": [
  {
   "cell_type": "code",
   "execution_count": 1,
   "id": "07c40c5b",
   "metadata": {},
   "outputs": [],
   "source": [
    "import os"
   ]
  },
  {
   "cell_type": "code",
   "execution_count": 3,
   "id": "d45b58e3",
   "metadata": {},
   "outputs": [
    {
     "data": {
      "text/plain": [
       "['.ipynb_checkpoints', 'demo.txt', 'file operations.ipynb', 'Untitled.ipynb']"
      ]
     },
     "execution_count": 3,
     "metadata": {},
     "output_type": "execute_result"
    }
   ],
   "source": [
    "os.listdir()"
   ]
  },
  {
   "cell_type": "code",
   "execution_count": 4,
   "id": "3902eb65",
   "metadata": {},
   "outputs": [],
   "source": [
    "os.mkdir(\"vaishnavi\")"
   ]
  },
  {
   "cell_type": "code",
   "execution_count": 5,
   "id": "1f80c506",
   "metadata": {},
   "outputs": [
    {
     "data": {
      "text/plain": [
       "['.ipynb_checkpoints',\n",
       " 'demo.txt',\n",
       " 'file operations.ipynb',\n",
       " 'Untitled.ipynb',\n",
       " 'vaishnavi']"
      ]
     },
     "execution_count": 5,
     "metadata": {},
     "output_type": "execute_result"
    }
   ],
   "source": [
    "os.listdir()"
   ]
  },
  {
   "cell_type": "code",
   "execution_count": 2,
   "id": "bdf64c39",
   "metadata": {},
   "outputs": [],
   "source": [
    "os.mkdir(\"c:\\\\vaishnavi\")"
   ]
  },
  {
   "cell_type": "code",
   "execution_count": 3,
   "id": "041b3264",
   "metadata": {},
   "outputs": [
    {
     "data": {
      "text/plain": [
       "['$Recycle.Bin',\n",
       " 'bootmgr',\n",
       " 'BOOTNXT',\n",
       " 'Dhanu',\n",
       " 'Documents and Settings',\n",
       " 'DumpStack.log.tmp',\n",
       " 'eula.1028.txt',\n",
       " 'eula.1031.txt',\n",
       " 'eula.1033.txt',\n",
       " 'eula.1036.txt',\n",
       " 'eula.1040.txt',\n",
       " 'eula.1041.txt',\n",
       " 'eula.1042.txt',\n",
       " 'eula.2052.txt',\n",
       " 'eula.3082.txt',\n",
       " 'globdata.ini',\n",
       " 'hiberfil.sys',\n",
       " 'install.exe',\n",
       " 'install.ini',\n",
       " 'install.res.1028.dll',\n",
       " 'install.res.1031.dll',\n",
       " 'install.res.1033.dll',\n",
       " 'install.res.1036.dll',\n",
       " 'install.res.1040.dll',\n",
       " 'install.res.1041.dll',\n",
       " 'install.res.1042.dll',\n",
       " 'install.res.2052.dll',\n",
       " 'install.res.3082.dll',\n",
       " 'Intel',\n",
       " 'MSOCache',\n",
       " 'package123',\n",
       " 'pagefile.sys',\n",
       " 'PerfLogs',\n",
       " 'Program Files',\n",
       " 'Program Files (x86)',\n",
       " 'ProgramData',\n",
       " 'Recovery',\n",
       " 'Recovery.txt',\n",
       " 'Sinewave',\n",
       " 'SinewaveData',\n",
       " 'swapfile.sys',\n",
       " 'SWSetup',\n",
       " 'System Volume Information',\n",
       " 'TurboC4',\n",
       " 'Users',\n",
       " 'vaishnavi',\n",
       " 'vcredist.bmp',\n",
       " 'VC_RED.cab',\n",
       " 'VC_RED.MSI',\n",
       " 'wamp',\n",
       " 'Windows',\n",
       " 'xampp',\n",
       " 'yashpal.java']"
      ]
     },
     "execution_count": 3,
     "metadata": {},
     "output_type": "execute_result"
    }
   ],
   "source": [
    "os.listdir(\"c:\\\\\")"
   ]
  },
  {
   "cell_type": "code",
   "execution_count": 4,
   "id": "261e5618",
   "metadata": {},
   "outputs": [],
   "source": [
    "os.rename(\"vaishnavi\",\"v\")"
   ]
  },
  {
   "cell_type": "code",
   "execution_count": 5,
   "id": "cb224eb3",
   "metadata": {
    "scrolled": true
   },
   "outputs": [
    {
     "data": {
      "text/plain": [
       "['.ipynb_checkpoints',\n",
       " 'demo.txt',\n",
       " 'file operations.ipynb',\n",
       " 'Untitled.ipynb',\n",
       " 'v']"
      ]
     },
     "execution_count": 5,
     "metadata": {},
     "output_type": "execute_result"
    }
   ],
   "source": [
    "os.listdir()"
   ]
  },
  {
   "cell_type": "code",
   "execution_count": 6,
   "id": "2987b32f",
   "metadata": {},
   "outputs": [],
   "source": [
    "os.rename(\"c:\\\\vaishnavi\",\"c:\\\\v\")"
   ]
  },
  {
   "cell_type": "code",
   "execution_count": 8,
   "id": "ac4ff93b",
   "metadata": {},
   "outputs": [
    {
     "data": {
      "text/plain": [
       "['$Recycle.Bin',\n",
       " 'bootmgr',\n",
       " 'BOOTNXT',\n",
       " 'Dhanu',\n",
       " 'Documents and Settings',\n",
       " 'DumpStack.log.tmp',\n",
       " 'eula.1028.txt',\n",
       " 'eula.1031.txt',\n",
       " 'eula.1033.txt',\n",
       " 'eula.1036.txt',\n",
       " 'eula.1040.txt',\n",
       " 'eula.1041.txt',\n",
       " 'eula.1042.txt',\n",
       " 'eula.2052.txt',\n",
       " 'eula.3082.txt',\n",
       " 'globdata.ini',\n",
       " 'hiberfil.sys',\n",
       " 'install.exe',\n",
       " 'install.ini',\n",
       " 'install.res.1028.dll',\n",
       " 'install.res.1031.dll',\n",
       " 'install.res.1033.dll',\n",
       " 'install.res.1036.dll',\n",
       " 'install.res.1040.dll',\n",
       " 'install.res.1041.dll',\n",
       " 'install.res.1042.dll',\n",
       " 'install.res.2052.dll',\n",
       " 'install.res.3082.dll',\n",
       " 'Intel',\n",
       " 'MSOCache',\n",
       " 'package123',\n",
       " 'pagefile.sys',\n",
       " 'PerfLogs',\n",
       " 'Program Files',\n",
       " 'Program Files (x86)',\n",
       " 'ProgramData',\n",
       " 'Recovery',\n",
       " 'Recovery.txt',\n",
       " 'Sinewave',\n",
       " 'SinewaveData',\n",
       " 'swapfile.sys',\n",
       " 'SWSetup',\n",
       " 'System Volume Information',\n",
       " 'TurboC4',\n",
       " 'Users',\n",
       " 'v',\n",
       " 'vcredist.bmp',\n",
       " 'VC_RED.cab',\n",
       " 'VC_RED.MSI',\n",
       " 'wamp',\n",
       " 'Windows',\n",
       " 'xampp',\n",
       " 'yashpal.java']"
      ]
     },
     "execution_count": 8,
     "metadata": {},
     "output_type": "execute_result"
    }
   ],
   "source": [
    "os.listdir(\"c:\\\\\")"
   ]
  },
  {
   "cell_type": "code",
   "execution_count": 9,
   "id": "e8d55c4c",
   "metadata": {},
   "outputs": [
    {
     "data": {
      "text/plain": [
       "'C:\\\\Users\\\\IMRD\\\\nikpy'"
      ]
     },
     "execution_count": 9,
     "metadata": {},
     "output_type": "execute_result"
    }
   ],
   "source": [
    "os.getcwd()"
   ]
  },
  {
   "cell_type": "code",
   "execution_count": 11,
   "id": "c2b07f4e",
   "metadata": {},
   "outputs": [],
   "source": [
    "os.chdir(\"C:\\\\Users\\\\IMRD\\\\main\")"
   ]
  },
  {
   "cell_type": "code",
   "execution_count": 12,
   "id": "ddd7cfde",
   "metadata": {},
   "outputs": [
    {
     "data": {
      "text/plain": [
       "'C:\\\\Users\\\\IMRD\\\\main'"
      ]
     },
     "execution_count": 12,
     "metadata": {},
     "output_type": "execute_result"
    }
   ],
   "source": [
    "os.getcwd()"
   ]
  },
  {
   "cell_type": "code",
   "execution_count": 13,
   "id": "adc46db8",
   "metadata": {},
   "outputs": [
    {
     "data": {
      "text/plain": [
       "<nt.ScandirIterator at 0x2a619634880>"
      ]
     },
     "execution_count": 13,
     "metadata": {},
     "output_type": "execute_result"
    }
   ],
   "source": [
    "os.scandir()"
   ]
  },
  {
   "cell_type": "code",
   "execution_count": 14,
   "id": "090800a9",
   "metadata": {},
   "outputs": [
    {
     "data": {
      "text/plain": [
       "<generator object _walk at 0x000002A61A815A20>"
      ]
     },
     "execution_count": 14,
     "metadata": {},
     "output_type": "execute_result"
    }
   ],
   "source": [
    "os.walk('C:\\\\Users\\\\IMRD\\\\main')"
   ]
  },
  {
   "cell_type": "code",
   "execution_count": 17,
   "id": "c929b0bf",
   "metadata": {},
   "outputs": [
    {
     "name": "stdout",
     "output_type": "stream",
     "text": [
      "current directory= C:\\Users\\IMRD\\main\n",
      "directory name= ['.ipynb_checkpoints', 'mypakage']\n",
      "file names== ['Untitled.ipynb']\n",
      "------------------------------------------------------\n",
      "current directory= C:\\Users\\IMRD\\main\\.ipynb_checkpoints\n",
      "directory name= []\n",
      "file names== ['Untitled-checkpoint.ipynb']\n",
      "------------------------------------------------------\n",
      "current directory= C:\\Users\\IMRD\\main\\mypakage\n",
      "directory name= ['.ipynb_checkpoints', '__pycache__']\n",
      "file names== ['module1.py', 'module2.py']\n",
      "------------------------------------------------------\n",
      "current directory= C:\\Users\\IMRD\\main\\mypakage\\.ipynb_checkpoints\n",
      "directory name= []\n",
      "file names== []\n",
      "------------------------------------------------------\n",
      "current directory= C:\\Users\\IMRD\\main\\mypakage\\__pycache__\n",
      "directory name= []\n",
      "file names== ['module1.cpython-311.pyc', 'module2.cpython-311.pyc']\n",
      "------------------------------------------------------\n"
     ]
    }
   ],
   "source": [
    "for dirpath,dirname,filename in os.walk('C:\\\\Users\\\\IMRD\\\\main'):\n",
    "    print(\"current directory=\",dirpath)\n",
    "    print(\"directory name=\",dirname)\n",
    "    print(\"file names==\",filename)\n",
    "    print(\"------------------------------------------------------\")"
   ]
  },
  {
   "cell_type": "code",
   "execution_count": 18,
   "id": "399b39cb",
   "metadata": {},
   "outputs": [],
   "source": [
    "os.chdir(\"C:\\\\Users\\\\IMRD\\\\nikpy\")"
   ]
  },
  {
   "cell_type": "code",
   "execution_count": 19,
   "id": "ff0bbcc3",
   "metadata": {},
   "outputs": [
    {
     "data": {
      "text/plain": [
       "'C:\\\\Users\\\\IMRD\\\\nikpy'"
      ]
     },
     "execution_count": 19,
     "metadata": {},
     "output_type": "execute_result"
    }
   ],
   "source": [
    "os.getcwd()"
   ]
  },
  {
   "cell_type": "code",
   "execution_count": 20,
   "id": "6e4cc565",
   "metadata": {},
   "outputs": [
    {
     "data": {
      "text/plain": [
       "['.ipynb_checkpoints',\n",
       " 'demo.txt',\n",
       " 'file operations.ipynb',\n",
       " 'os module.ipynb',\n",
       " 'v']"
      ]
     },
     "execution_count": 20,
     "metadata": {},
     "output_type": "execute_result"
    }
   ],
   "source": [
    "os.listdir()"
   ]
  },
  {
   "cell_type": "markdown",
   "id": "401570ab",
   "metadata": {},
   "source": [
    "# Remove file and directory"
   ]
  },
  {
   "cell_type": "code",
   "execution_count": null,
   "id": "79f5a66f",
   "metadata": {},
   "outputs": [],
   "source": [
    "# remove() use for file\n",
    "# os.rmdir() use for remove empty directory\n",
    "#shutil.rmtree() use for remove directory having content"
   ]
  },
  {
   "cell_type": "code",
   "execution_count": 21,
   "id": "971eb52e",
   "metadata": {},
   "outputs": [
    {
     "ename": "PermissionError",
     "evalue": "[WinError 5] Access is denied: 'v'",
     "output_type": "error",
     "traceback": [
      "\u001b[1;31m---------------------------------------------------------------------------\u001b[0m",
      "\u001b[1;31mPermissionError\u001b[0m                           Traceback (most recent call last)",
      "Cell \u001b[1;32mIn[21], line 1\u001b[0m\n\u001b[1;32m----> 1\u001b[0m os\u001b[38;5;241m.\u001b[39mremove(\u001b[38;5;124m\"\u001b[39m\u001b[38;5;124mv\u001b[39m\u001b[38;5;124m\"\u001b[39m)\n",
      "\u001b[1;31mPermissionError\u001b[0m: [WinError 5] Access is denied: 'v'"
     ]
    }
   ],
   "source": [
    "os.remove(\"v\")"
   ]
  },
  {
   "cell_type": "code",
   "execution_count": 22,
   "id": "386b622d",
   "metadata": {},
   "outputs": [],
   "source": [
    "os.rmdir(\"v\")"
   ]
  },
  {
   "cell_type": "code",
   "execution_count": 23,
   "id": "61f6f05a",
   "metadata": {},
   "outputs": [
    {
     "data": {
      "text/plain": [
       "['.ipynb_checkpoints', 'demo.txt', 'file operations.ipynb', 'os module.ipynb']"
      ]
     },
     "execution_count": 23,
     "metadata": {},
     "output_type": "execute_result"
    }
   ],
   "source": [
    "os.listdir()"
   ]
  },
  {
   "cell_type": "markdown",
   "id": "3b1c79b1",
   "metadata": {},
   "source": [
    "# move file and directory"
   ]
  },
  {
   "cell_type": "code",
   "execution_count": 26,
   "id": "005f03b0",
   "metadata": {},
   "outputs": [],
   "source": [
    "import shutil"
   ]
  },
  {
   "cell_type": "code",
   "execution_count": 27,
   "id": "763f06bd",
   "metadata": {},
   "outputs": [
    {
     "data": {
      "text/plain": [
       "'D:\\\\v'"
      ]
     },
     "execution_count": 27,
     "metadata": {},
     "output_type": "execute_result"
    }
   ],
   "source": [
    "shutil.move(\"c:\\\\v\",\"D:\\\\v\")              #move from one directory to another"
   ]
  },
  {
   "cell_type": "code",
   "execution_count": 29,
   "id": "1666d95b",
   "metadata": {},
   "outputs": [
    {
     "data": {
      "text/plain": [
       "['$RECYCLE.BIN',\n",
       " '.fe_tmp',\n",
       " 'cloudsim-3.0.3',\n",
       " 'cloud_analyst',\n",
       " 'cloud_analyst.zip',\n",
       " 'database1.accdb',\n",
       " 'Demo.class',\n",
       " 'Demo.java',\n",
       " 'demo1.class',\n",
       " 'demo1.java',\n",
       " 'dhanu',\n",
       " 'Install SanDisk Software.dmg',\n",
       " 'jagruti',\n",
       " 'parag',\n",
       " 'pawar',\n",
       " 'PRACTICALS',\n",
       " 'rani',\n",
       " 'stream.class',\n",
       " 'stream.java',\n",
       " 'System Volume Information',\n",
       " 'TURBOC3',\n",
       " 'v']"
      ]
     },
     "execution_count": 29,
     "metadata": {},
     "output_type": "execute_result"
    }
   ],
   "source": [
    "os.listdir(\"D:\\\\\")"
   ]
  },
  {
   "cell_type": "code",
   "execution_count": 28,
   "id": "8f2430f0",
   "metadata": {},
   "outputs": [
    {
     "data": {
      "text/plain": [
       "['$Recycle.Bin',\n",
       " 'bootmgr',\n",
       " 'BOOTNXT',\n",
       " 'Dhanu',\n",
       " 'Documents and Settings',\n",
       " 'DumpStack.log.tmp',\n",
       " 'eula.1028.txt',\n",
       " 'eula.1031.txt',\n",
       " 'eula.1033.txt',\n",
       " 'eula.1036.txt',\n",
       " 'eula.1040.txt',\n",
       " 'eula.1041.txt',\n",
       " 'eula.1042.txt',\n",
       " 'eula.2052.txt',\n",
       " 'eula.3082.txt',\n",
       " 'globdata.ini',\n",
       " 'hiberfil.sys',\n",
       " 'install.exe',\n",
       " 'install.ini',\n",
       " 'install.res.1028.dll',\n",
       " 'install.res.1031.dll',\n",
       " 'install.res.1033.dll',\n",
       " 'install.res.1036.dll',\n",
       " 'install.res.1040.dll',\n",
       " 'install.res.1041.dll',\n",
       " 'install.res.1042.dll',\n",
       " 'install.res.2052.dll',\n",
       " 'install.res.3082.dll',\n",
       " 'Intel',\n",
       " 'MSOCache',\n",
       " 'package123',\n",
       " 'pagefile.sys',\n",
       " 'PerfLogs',\n",
       " 'Program Files',\n",
       " 'Program Files (x86)',\n",
       " 'ProgramData',\n",
       " 'Recovery',\n",
       " 'Recovery.txt',\n",
       " 'Sinewave',\n",
       " 'SinewaveData',\n",
       " 'swapfile.sys',\n",
       " 'SWSetup',\n",
       " 'System Volume Information',\n",
       " 'TurboC4',\n",
       " 'Users',\n",
       " 'vcredist.bmp',\n",
       " 'VC_RED.cab',\n",
       " 'VC_RED.MSI',\n",
       " 'wamp',\n",
       " 'Windows',\n",
       " 'xampp',\n",
       " 'yashpal.java']"
      ]
     },
     "execution_count": 28,
     "metadata": {},
     "output_type": "execute_result"
    }
   ],
   "source": [
    "os.listdir(\"c:\\\\\")"
   ]
  },
  {
   "cell_type": "markdown",
   "id": "3e01edb9",
   "metadata": {},
   "source": [
    "# copy file and directory"
   ]
  },
  {
   "cell_type": "code",
   "execution_count": 35,
   "id": "b49d5ca6",
   "metadata": {},
   "outputs": [
    {
     "data": {
      "text/plain": [
       "'F:\\\\v'"
      ]
     },
     "execution_count": 35,
     "metadata": {},
     "output_type": "execute_result"
    }
   ],
   "source": [
    "shutil.copytree(\"D:\\\\v\",\"F:\\\\v\")               #shutil.copytree() use to copy only directoy\n",
    "                                               #shutil.copy() or shutil.copy2() use to copy only files\n"
   ]
  },
  {
   "cell_type": "code",
   "execution_count": null,
   "id": "b97849ce",
   "metadata": {},
   "outputs": [],
   "source": []
  }
 ],
 "metadata": {
  "kernelspec": {
   "display_name": "Python 3 (ipykernel)",
   "language": "python",
   "name": "python3"
  },
  "language_info": {
   "codemirror_mode": {
    "name": "ipython",
    "version": 3
   },
   "file_extension": ".py",
   "mimetype": "text/x-python",
   "name": "python",
   "nbconvert_exporter": "python",
   "pygments_lexer": "ipython3",
   "version": "3.11.5"
  }
 },
 "nbformat": 4,
 "nbformat_minor": 5
}
