{
 "cells": [
  {
   "cell_type": "code",
   "execution_count": 1,
   "id": "66006002-4f39-44d2-9e57-ffd39fafaac4",
   "metadata": {},
   "outputs": [],
   "source": [
    "from tkinter import *"
   ]
  },
  {
   "cell_type": "code",
   "execution_count": 55,
   "id": "dbb553e3-a892-405e-9eec-e9754a2112c1",
   "metadata": {},
   "outputs": [],
   "source": [
    "top=Tk()\n",
    "top.geometry(\"500x500\")\n",
    "\n",
    "top_frame=Frame(top,bg=\"pink\",padx=20,pady=20)\n",
    "top_frame.pack(fill=\"x\")\n",
    "\n",
    "bottom_frame=Frame(top,bg=\"red\",padx=50,pady=50)\n",
    "bottom_frame.pack(side=BOTTOM,fill=\"x\")\n",
    "\n",
    "left_frame=Frame(top,bg=\"lightblue\",padx=10,pady=10)\n",
    "left_frame.pack(side=LEFT,fill=\"y\")\n",
    "\n",
    "l1=Label(top_frame,text=\"enter name =\")\n",
    "l1.pack()\n",
    "\n",
    "e=Entry(top_frame).pack()\n",
    "\n",
    "b=Button(left_frame,text=\"click\")\n",
    "b.pack()\n",
    "\n",
    "text=Text(bottom_frame,height=10).pack(fill='both',expand=True)\n",
    "top.mainloop()"
   ]
  },
  {
   "cell_type": "code",
   "execution_count": null,
   "id": "0e59f49a-b523-45f6-addb-1e1b343e0a2d",
   "metadata": {},
   "outputs": [],
   "source": []
  }
 ],
 "metadata": {
  "kernelspec": {
   "display_name": "Python 3 (ipykernel)",
   "language": "python",
   "name": "python3"
  },
  "language_info": {
   "codemirror_mode": {
    "name": "ipython",
    "version": 3
   },
   "file_extension": ".py",
   "mimetype": "text/x-python",
   "name": "python",
   "nbconvert_exporter": "python",
   "pygments_lexer": "ipython3",
   "version": "3.12.4"
  }
 },
 "nbformat": 4,
 "nbformat_minor": 5
}
