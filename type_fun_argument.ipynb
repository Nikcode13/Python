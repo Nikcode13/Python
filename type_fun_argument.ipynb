{
 "cells": [
  {
   "cell_type": "code",
   "execution_count": 1,
   "id": "f7994dd9",
   "metadata": {},
   "outputs": [
    {
     "name": "stdout",
     "output_type": "stream",
     "text": [
      "add =  30\n",
      "add =  20\n"
     ]
    }
   ],
   "source": [
    "#type of function arguments\n",
    "\n",
    "#1) default arguments(if we not provide value to arg.. then it get defaut value for that arguments)\n",
    "\n",
    "def fun(a,b=10):\n",
    "    print(\"add = \",a+b)\n",
    "\n",
    "fun(10,20)\n",
    "fun(10)"
   ]
  },
  {
   "cell_type": "code",
   "execution_count": 5,
   "id": "d4afedea",
   "metadata": {},
   "outputs": [
    {
     "name": "stdout",
     "output_type": "stream",
     "text": [
      "the youngest child is  raj\n"
     ]
    }
   ],
   "source": [
    "#2) keyword arguments\n",
    "\n",
    "def my_fun(a,b,c):\n",
    "    print(\"the youngest child is \",c)\n",
    "    \n",
    "my_fun(a=\"ram\",c=\"raj\",b=\"sham\")"
   ]
  },
  {
   "cell_type": "code",
   "execution_count": null,
   "id": "89614e7e",
   "metadata": {},
   "outputs": [],
   "source": []
  },
  {
   "cell_type": "code",
   "execution_count": null,
   "id": "aaff53a6",
   "metadata": {},
   "outputs": [],
   "source": []
  }
 ],
 "metadata": {
  "kernelspec": {
   "display_name": "Python 3",
   "language": "python",
   "name": "python3"
  },
  "language_info": {
   "codemirror_mode": {
    "name": "ipython",
    "version": 3
   },
   "file_extension": ".py",
   "mimetype": "text/x-python",
   "name": "python",
   "nbconvert_exporter": "python",
   "pygments_lexer": "ipython3",
   "version": "3.8.8"
  }
 },
 "nbformat": 4,
 "nbformat_minor": 5
}
