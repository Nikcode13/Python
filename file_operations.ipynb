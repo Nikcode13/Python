{
 "cells": [
  {
   "cell_type": "code",
   "execution_count": 1,
   "id": "f7101a17",
   "metadata": {},
   "outputs": [
    {
     "name": "stdout",
     "output_type": "stream",
     "text": [
      "<_io.TextIOWrapper name='mytext.txt' mode='r' encoding='cp1252'>\n"
     ]
    }
   ],
   "source": [
    "f=open(\"mytext.txt\",'r')\n",
    "f.read()\n",
    "print(f)"
   ]
  },
  {
   "cell_type": "code",
   "execution_count": 2,
   "id": "55d3ba2a",
   "metadata": {},
   "outputs": [
    {
     "name": "stdout",
     "output_type": "stream",
     "text": [
      "hello ,how are you?\n",
      "\n"
     ]
    }
   ],
   "source": [
    "#read a file\n",
    "\n",
    "f=open(\"mytext.txt\",'r')\n",
    "print(f.read())"
   ]
  },
  {
   "cell_type": "code",
   "execution_count": 3,
   "id": "ee8cf40d",
   "metadata": {},
   "outputs": [
    {
     "name": "stdout",
     "output_type": "stream",
     "text": [
      "16\n"
     ]
    }
   ],
   "source": [
    "#if we use w mode and file is not exist \n",
    "#then new file is created automaticaly\n",
    "\n",
    "f=open(\"mytext2.txt\",'w')\n",
    "print(f.write(\"i an text file 2\"))"
   ]
  },
  {
   "cell_type": "code",
   "execution_count": 4,
   "id": "5b76a7dc",
   "metadata": {},
   "outputs": [
    {
     "name": "stdout",
     "output_type": "stream",
     "text": [
      "i an text file 2\n"
     ]
    }
   ],
   "source": [
    "f=open(\"mytext2.txt\",'r')\n",
    "print(f.read())"
   ]
  },
  {
   "cell_type": "code",
   "execution_count": 5,
   "id": "2d682985",
   "metadata": {},
   "outputs": [
    {
     "name": "stdout",
     "output_type": "stream",
     "text": [
      "11\n"
     ]
    }
   ],
   "source": [
    "f=open(\"mytext2.txt\",'w')\n",
    "print(f.write(\"hellow word\"))\n"
   ]
  },
  {
   "cell_type": "code",
   "execution_count": 6,
   "id": "7d6ef049",
   "metadata": {},
   "outputs": [
    {
     "name": "stdout",
     "output_type": "stream",
     "text": [
      "hellow word\n"
     ]
    }
   ],
   "source": [
    "f=open(\"mytext2.txt\",'r')\n",
    "print(f.read())"
   ]
  },
  {
   "cell_type": "code",
   "execution_count": 7,
   "id": "584a11e8",
   "metadata": {},
   "outputs": [
    {
     "name": "stdout",
     "output_type": "stream",
     "text": [
      "19\n"
     ]
    }
   ],
   "source": [
    "#append string in file\n",
    "\n",
    "f=open(\"mytext2.txt\",'a')\n",
    "print(f.write(\"\\ni am append string\"))"
   ]
  },
  {
   "cell_type": "code",
   "execution_count": 8,
   "id": "aa33258a",
   "metadata": {},
   "outputs": [
    {
     "name": "stdout",
     "output_type": "stream",
     "text": [
      "hellow word\n",
      "i am append string\n"
     ]
    }
   ],
   "source": [
    "f=open(\"mytext2.txt\",'r')\n",
    "print(f.read())"
   ]
  },
  {
   "cell_type": "code",
   "execution_count": 9,
   "id": "a036cdfd",
   "metadata": {},
   "outputs": [
    {
     "name": "stdout",
     "output_type": "stream",
     "text": [
      "11\n",
      "\n"
     ]
    }
   ],
   "source": [
    "f=open(\"mytext3.txt\",'w+')\n",
    "print(f.write(\"hellow word\"))\n",
    "print(f.read())"
   ]
  },
  {
   "cell_type": "code",
   "execution_count": 10,
   "id": "dbef5cd7",
   "metadata": {},
   "outputs": [
    {
     "name": "stdout",
     "output_type": "stream",
     "text": [
      "\n"
     ]
    }
   ],
   "source": [
    "print(f.read())"
   ]
  },
  {
   "cell_type": "code",
   "execution_count": 11,
   "id": "e792b9c7",
   "metadata": {},
   "outputs": [
    {
     "data": {
      "text/plain": [
       "'hellow word\\ni am append string'"
      ]
     },
     "execution_count": 11,
     "metadata": {},
     "output_type": "execute_result"
    }
   ],
   "source": [
    "f=open(\"mytext2.txt\",'r')\n",
    "f.read()"
   ]
  },
  {
   "cell_type": "code",
   "execution_count": 12,
   "id": "a7c9539a",
   "metadata": {},
   "outputs": [
    {
     "name": "stdout",
     "output_type": "stream",
     "text": [
      "hellow word\n",
      "i am append string\n"
     ]
    }
   ],
   "source": [
    "f=open(\"mytext2.txt\",'r')\n",
    "print(f.read())"
   ]
  },
  {
   "cell_type": "code",
   "execution_count": null,
   "id": "fa269d91",
   "metadata": {},
   "outputs": [],
   "source": []
  }
 ],
 "metadata": {
  "kernelspec": {
   "display_name": "Python 3",
   "language": "python",
   "name": "python3"
  },
  "language_info": {
   "codemirror_mode": {
    "name": "ipython",
    "version": 3
   },
   "file_extension": ".py",
   "mimetype": "text/x-python",
   "name": "python",
   "nbconvert_exporter": "python",
   "pygments_lexer": "ipython3",
   "version": "3.8.8"
  }
 },
 "nbformat": 4,
 "nbformat_minor": 5
}
