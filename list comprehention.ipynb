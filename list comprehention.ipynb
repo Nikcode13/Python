{
 "cells": [
  {
   "cell_type": "code",
   "execution_count": 1,
   "id": "98625503-2aa6-41db-bcf8-cf5436ad2708",
   "metadata": {},
   "outputs": [],
   "source": [
    "l=[i for i in range(1,31) if i%2==0]"
   ]
  },
  {
   "cell_type": "code",
   "execution_count": 3,
   "id": "b69f578c-a7df-4f0f-af28-2b4b662916dc",
   "metadata": {},
   "outputs": [
    {
     "name": "stdout",
     "output_type": "stream",
     "text": [
      "[2, 4, 6, 8, 10, 12, 14, 16, 18, 20, 22, 24, 26, 28, 30]\n"
     ]
    }
   ],
   "source": [
    "print(l)"
   ]
  },
  {
   "cell_type": "code",
   "execution_count": 15,
   "id": "50a8d228-e148-49ac-969b-656e1bd1e071",
   "metadata": {},
   "outputs": [
    {
     "ename": "SyntaxError",
     "evalue": "invalid syntax (3719547733.py, line 3)",
     "output_type": "error",
     "traceback": [
      "\u001b[1;36m  Cell \u001b[1;32mIn[15], line 3\u001b[1;36m\u001b[0m\n\u001b[1;33m    l2=[i*i for i in l1 if i%2==0 else i]\u001b[0m\n\u001b[1;37m                                  ^\u001b[0m\n\u001b[1;31mSyntaxError\u001b[0m\u001b[1;31m:\u001b[0m invalid syntax\n"
     ]
    }
   ],
   "source": [
    "l1=[1,2,3,4,5,6,7,8,9,10]\n",
    "\n",
    "l2=[i*i for i in l1 if i%2==0 else i]\n",
    "print(l2)"
   ]
  },
  {
   "cell_type": "code",
   "execution_count": 21,
   "id": "84190f93-5654-4147-a015-3f8f9815c427",
   "metadata": {},
   "outputs": [
    {
     "name": "stdout",
     "output_type": "stream",
     "text": [
      "[1, 4, 3, 16, 5, 36, 7, 64, 9, 100]\n"
     ]
    }
   ],
   "source": [
    "l1=[1,2,3,4,5,6,7,8,9,10]\n",
    "l2=[i*i if i%2==0 else i for i in l1]\n",
    "print(l2)"
   ]
  },
  {
   "cell_type": "code",
   "execution_count": 23,
   "id": "eb493f6f-ff23-489c-9bb5-479ab6b94194",
   "metadata": {},
   "outputs": [
    {
     "name": "stdout",
     "output_type": "stream",
     "text": [
      "['NIK', 'BADGUJAR', 'MCA']\n"
     ]
    }
   ],
   "source": [
    "name=(\"nik\",\"badgujar\",\"mca\")\n",
    "uname=[i.upper() for i in name]\n",
    "print(uname)"
   ]
  },
  {
   "cell_type": "code",
   "execution_count": null,
   "id": "9588427a-3ab3-4290-9a66-b5669abd9cfc",
   "metadata": {},
   "outputs": [],
   "source": []
  }
 ],
 "metadata": {
  "kernelspec": {
   "display_name": "Python 3 (ipykernel)",
   "language": "python",
   "name": "python3"
  },
  "language_info": {
   "codemirror_mode": {
    "name": "ipython",
    "version": 3
   },
   "file_extension": ".py",
   "mimetype": "text/x-python",
   "name": "python",
   "nbconvert_exporter": "python",
   "pygments_lexer": "ipython3",
   "version": "3.12.4"
  }
 },
 "nbformat": 4,
 "nbformat_minor": 5
}
