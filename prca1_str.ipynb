{
 "cells": [
  {
   "cell_type": "code",
   "execution_count": 25,
   "id": "96b4bd80",
   "metadata": {},
   "outputs": [
    {
     "name": "stdout",
     "output_type": "stream",
     "text": [
      "hello\n",
      "hii Vishal\n",
      "How are you\n"
     ]
    }
   ],
   "source": [
    "#print string\n",
    "a='hello'\n",
    "b=\"hii Vishal\"\n",
    "c='''How are you'''\n",
    "print(a)\n",
    "print(b)\n",
    "print(c)"
   ]
  },
  {
   "cell_type": "code",
   "execution_count": 2,
   "id": "5ab70fef",
   "metadata": {},
   "outputs": [
    {
     "name": "stdout",
     "output_type": "stream",
     "text": [
      "5.2\n"
     ]
    }
   ],
   "source": [
    "#casting\n",
    "#explicit(user perform casting)\n",
    "\n",
    "x=\"3.2\"\n",
    "y=\"2\"\n",
    "\n",
    "print(float(x)+int(y))"
   ]
  },
  {
   "cell_type": "code",
   "execution_count": 3,
   "id": "9e694b06",
   "metadata": {},
   "outputs": [
    {
     "name": "stdout",
     "output_type": "stream",
     "text": [
      "add = 8.5\n",
      "<class 'float'>\n"
     ]
    }
   ],
   "source": [
    "#implicit(machine auto casting)\n",
    "\n",
    "p=3.5\n",
    "q=5\n",
    "add=p+q\n",
    "print(\"add =\",add)\n",
    "print(type(add))"
   ]
  },
  {
   "cell_type": "code",
   "execution_count": 5,
   "id": "464fcd55",
   "metadata": {},
   "outputs": [
    {
     "name": "stdout",
     "output_type": "stream",
     "text": [
      "<class 'int'>\n",
      "<class 'float'>\n",
      "<class 'complex'>\n"
     ]
    }
   ],
   "source": [
    "#data types\n",
    "\n",
    "a=2\n",
    "b=3.6\n",
    "c=3+5j\n",
    "\n",
    "print(type(a))\n",
    "print(type(b))\n",
    "print(type(c))"
   ]
  },
  {
   "cell_type": "code",
   "execution_count": 20,
   "id": "cdb05f02",
   "metadata": {},
   "outputs": [
    {
     "name": "stdout",
     "output_type": "stream",
     "text": [
      "lik\n",
      "likE mango\n",
      "i likE \n",
      "mang\n",
      "mango\n",
      "E mang\n"
     ]
    }
   ],
   "source": [
    "#slicing\n",
    "\n",
    "str=\"i likE mango\"\n",
    "print(str[2:5])\n",
    "print(str[2:])\n",
    "print(str[:7])\n",
    "print(str[-5:-1])\n",
    "print(str[-5:])\n",
    "print(str[5:-1])"
   ]
  },
  {
   "cell_type": "code",
   "execution_count": 24,
   "id": "76dcd1b7",
   "metadata": {},
   "outputs": [
    {
     "name": "stdout",
     "output_type": "stream",
     "text": [
      "I LIKE MANGO\n",
      "i like mango\n",
      "I like mango\n",
      "I Like Mango\n",
      "I LIKe MANGO\n"
     ]
    }
   ],
   "source": [
    "#string function\n",
    "\n",
    "print(str.upper())\n",
    "print(str.lower())\n",
    "print(str.capitalize())\n",
    "print(str.title())\n",
    "print(str.swapcase())"
   ]
  },
  {
   "cell_type": "code",
   "execution_count": null,
   "id": "2ce11f3e",
   "metadata": {},
   "outputs": [],
   "source": []
  }
 ],
 "metadata": {
  "kernelspec": {
   "display_name": "Python 3",
   "language": "python",
   "name": "python3"
  },
  "language_info": {
   "codemirror_mode": {
    "name": "ipython",
    "version": 3
   },
   "file_extension": ".py",
   "mimetype": "text/x-python",
   "name": "python",
   "nbconvert_exporter": "python",
   "pygments_lexer": "ipython3",
   "version": "3.8.8"
  }
 },
 "nbformat": 4,
 "nbformat_minor": 5
}
