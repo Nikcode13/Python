{
 "cells": [
  {
   "cell_type": "code",
   "execution_count": 11,
   "id": "e59daef1-7d6b-4204-928c-d80d86b73c25",
   "metadata": {},
   "outputs": [],
   "source": [
    "import os\n",
    "import shutil"
   ]
  },
  {
   "cell_type": "code",
   "execution_count": 3,
   "id": "88a4e93c-00d1-4ae6-b387-9efadd11e475",
   "metadata": {},
   "outputs": [],
   "source": [
    "os.mkdir(\"D:\\\\vishal\")"
   ]
  },
  {
   "cell_type": "code",
   "execution_count": 5,
   "id": "873c799c-0df1-48d7-97b3-b9793954da51",
   "metadata": {},
   "outputs": [
    {
     "data": {
      "text/plain": [
       "['$RECYCLE.BIN',\n",
       " '1_Vishal',\n",
       " '2_Nikita',\n",
       " '3_Software',\n",
       " 'Conn.txt',\n",
       " 'dnik',\n",
       " 'dnik2',\n",
       " 'dnik3',\n",
       " 'Login.txt',\n",
       " 'MeterInfo.txt',\n",
       " 'NewCustomer.txt',\n",
       " 'Project.txt',\n",
       " 'rd.txt',\n",
       " 'Signup.txt',\n",
       " 'Splash.txt',\n",
       " 'System Volume Information',\n",
       " 'vishal']"
      ]
     },
     "execution_count": 5,
     "metadata": {},
     "output_type": "execute_result"
    }
   ],
   "source": [
    "os.listdir('D:\\\\')"
   ]
  },
  {
   "cell_type": "code",
   "execution_count": 7,
   "id": "f1f593b2-5126-4fce-8c84-dc7bd19814ef",
   "metadata": {},
   "outputs": [
    {
     "data": {
      "text/plain": [
       "['Nik.pptx']"
      ]
     },
     "execution_count": 7,
     "metadata": {},
     "output_type": "execute_result"
    }
   ],
   "source": [
    "os.listdir('D:\\\\vishal')"
   ]
  },
  {
   "cell_type": "code",
   "execution_count": 15,
   "id": "660f420b-47d8-49c0-8b41-cffbe8edfa6d",
   "metadata": {},
   "outputs": [
    {
     "data": {
      "text/plain": [
       "'D:\\\\dnik2\\\\Nik.pptx'"
      ]
     },
     "execution_count": 15,
     "metadata": {},
     "output_type": "execute_result"
    }
   ],
   "source": [
    "shutil.copy(\"D:\\\\vishal\\\\Nik.pptx\",\"D:\\\\dnik2\\\\Nik.pptx\")"
   ]
  },
  {
   "cell_type": "code",
   "execution_count": 17,
   "id": "b8c380c0-ad3c-4ccd-ad06-fbc7afbb5f95",
   "metadata": {},
   "outputs": [
    {
     "data": {
      "text/plain": [
       "['Nik.pptx']"
      ]
     },
     "execution_count": 17,
     "metadata": {},
     "output_type": "execute_result"
    }
   ],
   "source": [
    "os.listdir('D:\\\\dnik2')"
   ]
  },
  {
   "cell_type": "code",
   "execution_count": 19,
   "id": "760233f5-8566-4a61-a0ad-16aff0cc2cf4",
   "metadata": {},
   "outputs": [
    {
     "data": {
      "text/plain": [
       "['Nik.pptx']"
      ]
     },
     "execution_count": 19,
     "metadata": {},
     "output_type": "execute_result"
    }
   ],
   "source": [
    "os.listdir('D:\\\\vishal')"
   ]
  },
  {
   "cell_type": "code",
   "execution_count": 21,
   "id": "29303e59-eab0-4f9e-bbcb-529147451fe3",
   "metadata": {},
   "outputs": [],
   "source": [
    "os.rename(\"D:\\\\vishal\\\\Nik.pptx\",\"D:\\\\vishal\\\\vish.pptx\")"
   ]
  },
  {
   "cell_type": "code",
   "execution_count": 23,
   "id": "367301f7-7e98-46a4-9b13-717bbc44e957",
   "metadata": {},
   "outputs": [
    {
     "data": {
      "text/plain": [
       "['vish.pptx']"
      ]
     },
     "execution_count": 23,
     "metadata": {},
     "output_type": "execute_result"
    }
   ],
   "source": [
    "os.listdir('D:\\\\vishal')"
   ]
  },
  {
   "cell_type": "code",
   "execution_count": 25,
   "id": "d3239f87-b290-4b00-b036-d1c3bd2efa0f",
   "metadata": {},
   "outputs": [],
   "source": [
    "os.remove(\"D:\\\\dnik2\\\\Nik.pptx\")"
   ]
  },
  {
   "cell_type": "code",
   "execution_count": 27,
   "id": "e81ada63-0c32-4b1e-8985-3166e5f3c7ea",
   "metadata": {},
   "outputs": [
    {
     "data": {
      "text/plain": [
       "[]"
      ]
     },
     "execution_count": 27,
     "metadata": {},
     "output_type": "execute_result"
    }
   ],
   "source": [
    "os.listdir('D:\\\\dnik2')"
   ]
  },
  {
   "cell_type": "code",
   "execution_count": 29,
   "id": "8ae5612e-4e48-47b3-9436-840b2ffa8316",
   "metadata": {},
   "outputs": [
    {
     "data": {
      "text/plain": [
       "'D:\\\\dnik2\\\\vish.pptx'"
      ]
     },
     "execution_count": 29,
     "metadata": {},
     "output_type": "execute_result"
    }
   ],
   "source": [
    "shutil.move(\"D:\\\\vishal\\\\vish.pptx\",\"D:\\\\dnik2\\\\vish.pptx\")"
   ]
  },
  {
   "cell_type": "code",
   "execution_count": 31,
   "id": "ba394795-a09b-438c-96e2-de0c351eed87",
   "metadata": {},
   "outputs": [
    {
     "data": {
      "text/plain": [
       "['vish.pptx']"
      ]
     },
     "execution_count": 31,
     "metadata": {},
     "output_type": "execute_result"
    }
   ],
   "source": [
    "os.listdir('D:\\\\dnik2')"
   ]
  },
  {
   "cell_type": "code",
   "execution_count": 33,
   "id": "d2ce0dc1-d223-4dcd-baa5-a613484af902",
   "metadata": {},
   "outputs": [
    {
     "data": {
      "text/plain": [
       "[]"
      ]
     },
     "execution_count": 33,
     "metadata": {},
     "output_type": "execute_result"
    }
   ],
   "source": [
    "os.listdir('D:\\\\vishal')"
   ]
  },
  {
   "cell_type": "code",
   "execution_count": null,
   "id": "07442186-5d87-4807-94cb-384ebb0eb79c",
   "metadata": {},
   "outputs": [],
   "source": []
  }
 ],
 "metadata": {
  "kernelspec": {
   "display_name": "Python 3 (ipykernel)",
   "language": "python",
   "name": "python3"
  },
  "language_info": {
   "codemirror_mode": {
    "name": "ipython",
    "version": 3
   },
   "file_extension": ".py",
   "mimetype": "text/x-python",
   "name": "python",
   "nbconvert_exporter": "python",
   "pygments_lexer": "ipython3",
   "version": "3.12.4"
  }
 },
 "nbformat": 4,
 "nbformat_minor": 5
}
