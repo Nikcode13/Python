{
 "cells": [
  {
   "cell_type": "markdown",
   "id": "93e9d04e",
   "metadata": {},
   "source": [
    "# lambda function"
   ]
  },
  {
   "cell_type": "code",
   "execution_count": 1,
   "id": "0be5e349",
   "metadata": {},
   "outputs": [],
   "source": [
    "#program to find area of tringle"
   ]
  },
  {
   "cell_type": "code",
   "execution_count": 2,
   "id": "9807dbb3",
   "metadata": {},
   "outputs": [
    {
     "name": "stdout",
     "output_type": "stream",
     "text": [
      "area of triangle is =  100.0\n"
     ]
    }
   ],
   "source": [
    "area=lambda b,h:1/2*b*h\n",
    "print(\"area of triangle is = \",area(10,20))"
   ]
  },
  {
   "cell_type": "code",
   "execution_count": 3,
   "id": "37031471",
   "metadata": {},
   "outputs": [],
   "source": [
    "#program to find arithamatics operations using lambda"
   ]
  },
  {
   "cell_type": "code",
   "execution_count": 4,
   "id": "facbb2c6",
   "metadata": {},
   "outputs": [
    {
     "name": "stdout",
     "output_type": "stream",
     "text": [
      "addition =  12\n",
      "substraction =  8\n",
      "multiplication =  20\n",
      "division =  5.0\n",
      "modulas =  0\n"
     ]
    }
   ],
   "source": [
    "add=lambda a,b:a+b\n",
    "sub=lambda a,b:a-b\n",
    "multi=lambda a,b:a*b\n",
    "div=lambda a,b:a/b\n",
    "modulas=lambda a,b:a%b\n",
    "\n",
    "x=10\n",
    "y=2\n",
    "print(\"addition = \",add(x,y))\n",
    "print(\"substraction = \",sub(x,y))\n",
    "print(\"multiplication = \",multi(x,y))\n",
    "print(\"division = \",div(x,y))\n",
    "print(\"modulas = \",modulas(x,y))"
   ]
  },
  {
   "cell_type": "markdown",
   "id": "d62be700",
   "metadata": {},
   "source": [
    "# filter function"
   ]
  },
  {
   "cell_type": "code",
   "execution_count": 5,
   "id": "a3352edb",
   "metadata": {},
   "outputs": [],
   "source": [
    "#program to find even number"
   ]
  },
  {
   "cell_type": "code",
   "execution_count": 6,
   "id": "f3b11c69",
   "metadata": {},
   "outputs": [
    {
     "name": "stdout",
     "output_type": "stream",
     "text": [
      "[2, 4, 6, 8, 10, 12, 14, 16]\n"
     ]
    }
   ],
   "source": [
    "l=[1,2,3,4,5,6,7,8,9,10,11,12,13,14,15,16]\n",
    "\n",
    "even=list(filter(lambda num:num%2==0,l))\n",
    "print(even)"
   ]
  },
  {
   "cell_type": "code",
   "execution_count": 7,
   "id": "d364f884",
   "metadata": {},
   "outputs": [],
   "source": [
    "#program to find odd number"
   ]
  },
  {
   "cell_type": "code",
   "execution_count": 8,
   "id": "de47dcec",
   "metadata": {},
   "outputs": [
    {
     "name": "stdout",
     "output_type": "stream",
     "text": [
      "[1, 3, 5, 7, 9, 11, 13, 15]\n"
     ]
    }
   ],
   "source": [
    "l=[1,2,3,4,5,6,7,8,9,10,11,12,13,14,15,16]\n",
    "\n",
    "odd=list(filter(lambda num:num%2!=0,l))\n",
    "print(odd)"
   ]
  },
  {
   "cell_type": "code",
   "execution_count": null,
   "id": "45ab10bb",
   "metadata": {},
   "outputs": [],
   "source": []
  },
  {
   "cell_type": "code",
   "execution_count": null,
   "id": "3928f18c",
   "metadata": {},
   "outputs": [],
   "source": []
  }
 ],
 "metadata": {
  "kernelspec": {
   "display_name": "Python 3",
   "language": "python",
   "name": "python3"
  },
  "language_info": {
   "codemirror_mode": {
    "name": "ipython",
    "version": 3
   },
   "file_extension": ".py",
   "mimetype": "text/x-python",
   "name": "python",
   "nbconvert_exporter": "python",
   "pygments_lexer": "ipython3",
   "version": "3.8.8"
  }
 },
 "nbformat": 4,
 "nbformat_minor": 5
}
