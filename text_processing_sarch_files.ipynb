{
 "cells": [
  {
   "cell_type": "code",
   "execution_count": 3,
   "id": "f6651286-7602-4130-909c-adf0977b7214",
   "metadata": {},
   "outputs": [],
   "source": [
    "import os\n",
    "import fnmatch"
   ]
  },
  {
   "cell_type": "code",
   "execution_count": 23,
   "id": "39bce287-7967-4cc8-b6d0-713e09adc68f",
   "metadata": {},
   "outputs": [
    {
     "name": "stdin",
     "output_type": "stream",
     "text": [
      "enter directory path = D:\\\\dnik3\n",
      "enter type of file=  *.txt\n"
     ]
    },
    {
     "name": "stdout",
     "output_type": "stream",
     "text": [
      "found files =\n",
      "D:\\\\dnik3\\t1.txt\n",
      "D:\\\\dnik3\\t2.txt\n"
     ]
    }
   ],
   "source": [
    "def check_file(directory,file_type):\n",
    "    matches=[]\n",
    "    for rdpath,dir,files in os.walk(directory):\n",
    "        for f in fnmatch.filter(files,file_type):\n",
    "            matches.append(os.path.join(rdpath,f))\n",
    "    return matches\n",
    "\n",
    "directory=input(\"enter directory path =\")\n",
    "file_type=input(\"enter type of file= \")\n",
    "found_files=check_file(directory,file_type)\n",
    "\n",
    "if found_files:\n",
    "    print(\"found files =\")\n",
    "    for f in found_files:\n",
    "        print(f)                                                                                                                                                                                    \n",
    "else:\n",
    "    print(\"not such files presents\")"
   ]
  },
  {
   "cell_type": "code",
   "execution_count": 25,
   "id": "3de86eee-a833-44e4-a682-03c53ccb2d92",
   "metadata": {},
   "outputs": [
    {
     "name": "stdin",
     "output_type": "stream",
     "text": [
      "enter directory path = D:\\\\dnik3\n",
      "enter type of file=  t1.txt\n"
     ]
    },
    {
     "name": "stdout",
     "output_type": "stream",
     "text": [
      "found files =\n",
      "D:\\\\dnik3\\t1.txt\n"
     ]
    }
   ],
   "source": [
    "def check_file(directory,file_type):\n",
    "    matches=[]\n",
    "    for rdpath,dir,files in os.walk(directory):\n",
    "        for f in fnmatch.filter(files,file_type):\n",
    "            matches.append(os.path.join(rdpath,f))\n",
    "            \n",
    "    if matches:\n",
    "         print(\"found files =\")\n",
    "         for f in matches:\n",
    "            print(f)                                                                                                                                                                                    \n",
    "    else:\n",
    "       print(\"not such files presents\")\n",
    "\n",
    "directory=input(\"enter directory path =\")\n",
    "file_type=input(\"enter type of file= \")\n",
    "\n",
    "check_file(directory,file_type)\n",
    "\n"
   ]
  },
  {
   "cell_type": "code",
   "execution_count": 38,
   "id": "e3d2f46f-b9d6-4b3a-baf8-de4c093abea4",
   "metadata": {},
   "outputs": [
    {
     "name": "stdin",
     "output_type": "stream",
     "text": [
      "enter directory path = D:\\\\dnik3\n",
      "enter text to find in file=  are\n"
     ]
    },
    {
     "name": "stdout",
     "output_type": "stream",
     "text": [
      "files that prestent text =\n",
      "D:\\\\dnik3\\t1.txt\n",
      "D:\\\\dnik3\\t2.txt\n"
     ]
    }
   ],
   "source": [
    "def chech_text(directory,text):\n",
    "    matches=[]\n",
    "    for root,dir,files in os.walk(directory):\n",
    "        for fn in files:\n",
    "            file_path=os.path.join(root,fn)\n",
    "            with open(file_path,\"r\") as file:\n",
    "                content=file.read()\n",
    "            if text in content:\n",
    "                matches.append(file_path)\n",
    "    if matches:\n",
    "         print(\"files that prestent text =\")\n",
    "         for f in matches:\n",
    "             print(f)\n",
    "    else:\n",
    "         print(\"not such text present\")\n",
    "directory=input(\"enter directory path =\")\n",
    "text=input(\"enter text to find in file= \")\n",
    "\n",
    "chech_text(directory,text)"
   ]
  },
  {
   "cell_type": "code",
   "execution_count": null,
   "id": "49f6de3b-a128-4c5b-b1eb-ae7f76b8c6a1",
   "metadata": {},
   "outputs": [],
   "source": []
  }
 ],
 "metadata": {
  "kernelspec": {
   "display_name": "Python 3 (ipykernel)",
   "language": "python",
   "name": "python3"
  },
  "language_info": {
   "codemirror_mode": {
    "name": "ipython",
    "version": 3
   },
   "file_extension": ".py",
   "mimetype": "text/x-python",
   "name": "python",
   "nbconvert_exporter": "python",
   "pygments_lexer": "ipython3",
   "version": "3.12.4"
  }
 },
 "nbformat": 4,
 "nbformat_minor": 5
}
