{
 "cells": [
  {
   "cell_type": "markdown",
   "id": "4d25a430",
   "metadata": {},
   "source": [
    "## string operation"
   ]
  },
  {
   "cell_type": "code",
   "execution_count": 7,
   "id": "36dfc9c7",
   "metadata": {},
   "outputs": [],
   "source": [
    "a=\"Hello\"\n",
    "b=\" world\""
   ]
  },
  {
   "cell_type": "code",
   "execution_count": 8,
   "id": "17125dba",
   "metadata": {},
   "outputs": [
    {
     "name": "stdout",
     "output_type": "stream",
     "text": [
      "HelloHelloHello\n"
     ]
    }
   ],
   "source": [
    "print(a*3)"
   ]
  },
  {
   "cell_type": "code",
   "execution_count": 10,
   "id": "8fe6419c",
   "metadata": {},
   "outputs": [
    {
     "name": "stdout",
     "output_type": "stream",
     "text": [
      "Hello world\n"
     ]
    }
   ],
   "source": [
    "print(a+b)"
   ]
  },
  {
   "cell_type": "code",
   "execution_count": 11,
   "id": "a9c33eb3",
   "metadata": {},
   "outputs": [
    {
     "name": "stdout",
     "output_type": "stream",
     "text": [
      "l\n"
     ]
    }
   ],
   "source": [
    "print(a[3])"
   ]
  },
  {
   "cell_type": "code",
   "execution_count": 12,
   "id": "ce895d83",
   "metadata": {},
   "outputs": [
    {
     "name": "stdout",
     "output_type": "stream",
     "text": [
      "ll\n"
     ]
    }
   ],
   "source": [
    "print(a[2:4])"
   ]
  },
  {
   "cell_type": "code",
   "execution_count": 14,
   "id": "7844e3a8",
   "metadata": {},
   "outputs": [
    {
     "name": "stdout",
     "output_type": "stream",
     "text": [
      "True\n"
     ]
    }
   ],
   "source": [
    "print('w' in b)"
   ]
  },
  {
   "cell_type": "code",
   "execution_count": 15,
   "id": "275e933e",
   "metadata": {},
   "outputs": [
    {
     "name": "stdout",
     "output_type": "stream",
     "text": [
      "False\n"
     ]
    }
   ],
   "source": [
    "print('wo' not in b)"
   ]
  },
  {
   "cell_type": "markdown",
   "id": "ac792a6e",
   "metadata": {},
   "source": [
    "### string functions"
   ]
  },
  {
   "cell_type": "code",
   "execution_count": 62,
   "id": "b3d7ffea",
   "metadata": {},
   "outputs": [
    {
     "name": "stdout",
     "output_type": "stream",
     "text": [
      "lengeth =  11\n",
      "HELLO WORLD\n",
      "hello world\n",
      "hello world\n",
      "Hello world\n",
      "Hello World\n",
      "HELLo WORLD\n",
      "['hellO', 'world']\n",
      "3\n",
      "2\n",
      "7\n",
      "True\n",
      "False\n",
      "Goodbye world\n",
      "b'hellO world'\n",
      "hellO world\n"
     ]
    }
   ],
   "source": [
    "str=\"hellO world\"\n",
    "\n",
    "print(\"lengeth = \",len(str))\n",
    "print(str.upper())\n",
    "\n",
    "print(str.lower())\n",
    "print(str.casefold())\n",
    "\n",
    "print(str.capitalize())\n",
    "print(str.title())\n",
    "print(str.swapcase())\n",
    "print(str.split())\n",
    "print(str.count('l'))\n",
    "print(str.index('l'))\n",
    "print(str.find('or'))\n",
    "print(str.startswith('h'))\n",
    "print(str.endswith('h'))\n",
    "print(str.replace('hellO','Goodbye'))\n",
    "print(str.encode())\n",
    "print(str)"
   ]
  },
  {
   "cell_type": "code",
   "execution_count": 51,
   "id": "6bd5225b",
   "metadata": {},
   "outputs": [
    {
     "name": "stdout",
     "output_type": "stream",
     "text": [
      "False\n",
      "False\n",
      "False\n",
      "False\n"
     ]
    }
   ],
   "source": [
    "print(str.isupper())\n",
    "print(str.islower())\n",
    "print(str.istitle())\n",
    "print(str.isalpha())"
   ]
  },
  {
   "cell_type": "code",
   "execution_count": 53,
   "id": "1a2dc819",
   "metadata": {},
   "outputs": [
    {
     "name": "stdout",
     "output_type": "stream",
     "text": [
      "True\n",
      "True\n",
      "False\n",
      "False\n",
      "False\n"
     ]
    }
   ],
   "source": [
    "c='SS'\n",
    "print(c.isalpha())\n",
    "print(c.isalnum())\n",
    "print(c.isdigit())\n",
    "print(c.isnumeric())\n",
    "print(c.isspace())"
   ]
  },
  {
   "cell_type": "code",
   "execution_count": 30,
   "id": "9daf11c6",
   "metadata": {},
   "outputs": [
    {
     "name": "stdout",
     "output_type": "stream",
     "text": [
      "False\n"
     ]
    }
   ],
   "source": [
    "print(str.isalpha())"
   ]
  },
  {
   "cell_type": "code",
   "execution_count": 1,
   "id": "cf8a8b31",
   "metadata": {},
   "outputs": [
    {
     "data": {
      "text/plain": [
       "'C:\\\\Users\\\\imrdcomp110\\\\nikpy'"
      ]
     },
     "execution_count": 1,
     "metadata": {},
     "output_type": "execute_result"
    }
   ],
   "source": [
    "import os\n",
    "os.getcwd()"
   ]
  },
  {
   "cell_type": "code",
   "execution_count": null,
   "id": "c5f6aba3",
   "metadata": {},
   "outputs": [],
   "source": []
  }
 ],
 "metadata": {
  "kernelspec": {
   "display_name": "Python 3",
   "language": "python",
   "name": "python3"
  },
  "language_info": {
   "codemirror_mode": {
    "name": "ipython",
    "version": 3
   },
   "file_extension": ".py",
   "mimetype": "text/x-python",
   "name": "python",
   "nbconvert_exporter": "python",
   "pygments_lexer": "ipython3",
   "version": "3.8.8"
  }
 },
 "nbformat": 4,
 "nbformat_minor": 5
}
